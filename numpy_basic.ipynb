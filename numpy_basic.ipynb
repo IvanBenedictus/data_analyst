{
 "cells": [
  {
   "cell_type": "code",
   "execution_count": 1,
   "metadata": {},
   "outputs": [],
   "source": [
    "# Import numpy\n",
    "import numpy"
   ]
  },
  {
   "cell_type": "markdown",
   "metadata": {},
   "source": [
    "### The Basics"
   ]
  },
  {
   "cell_type": "code",
   "execution_count": 2,
   "metadata": {},
   "outputs": [],
   "source": [
    "a = numpy.array([1,2,3])\n",
    "# print(a)\n",
    "\n",
    "b = numpy.array([[4.0,5.0,6.0],[7.0,8.0,9.0]])\n",
    "# print(b)\n",
    "\n",
    "# Get dimension\n",
    "dimension = a.ndim\n",
    "# print(dimension)\n",
    "\n",
    "# Get shape\n",
    "shape = b.shape\n",
    "# print(shape)"
   ]
  },
  {
   "cell_type": "markdown",
   "metadata": {},
   "source": [
    "### Changing Element"
   ]
  },
  {
   "cell_type": "code",
   "execution_count": 3,
   "metadata": {},
   "outputs": [],
   "source": [
    "a = numpy.array([[1,2,3,4,5,6,7],[8,9,10,11,12,13,14]])\n",
    "#print(a)\n",
    "\n",
    "# Get a spesific element [r, c]\n",
    "number = a[1,5]\n",
    "# print(number)\n",
    "\n",
    "# Get a spesific row\n",
    "row = a[0,::2]\n",
    "# print(row)\n",
    "\n",
    "# Get a spesific colum\n",
    "col = a[:, 2]\n",
    "# print(col)\n",
    "\n",
    "# Replace element\n",
    "a[1,5] = 20\n",
    "a[:,2] = [1,2]\n",
    "# print(a)\n",
    "\n",
    "# 3D element (work outside in)\n",
    "b = numpy.array([[[1,2],[3,4]],[[5,6],[7,8]]])\n",
    "# print(b)\n",
    "four = b[0,1,1]\n",
    "# print(four)\n",
    "\n",
    "# Replace element 3D\n",
    "b[:,1,:] = [[8,8],[9,9]]\n",
    "# print(b)"
   ]
  },
  {
   "cell_type": "markdown",
   "metadata": {},
   "source": [
    "### Initialize Diffrent Arrays"
   ]
  },
  {
   "cell_type": "code",
   "execution_count": 4,
   "metadata": {},
   "outputs": [],
   "source": [
    "# All zeros matrix\n",
    "zeros = numpy.zeros((2,3), dtype = float)\n",
    "# print(zeros)\n",
    "\n",
    "# All ones matrix\n",
    "ones = numpy.ones((4,2), dtype = int)\n",
    "# print(ones)\n",
    "\n",
    "# Any other number\n",
    "num = numpy.full((2,2), 99)\n",
    "# num = numpy.full(a.shape,99)\n",
    "# print(num)\n",
    "\n",
    "# Random decimal values\n",
    "rand_float = numpy.random.rand(4,2)\n",
    "# rand_float = numpy.random.random_sample(a.shape)\n",
    "# print(rand_float)\n",
    "\n",
    "# Random integer values\n",
    "rand_int = numpy.random.randint(1, 10, size = (4,4))\n",
    "# print(rand_int)\n",
    "\n",
    "# Identity matrix\n",
    "identity = numpy.identity(4, dtype = int)\n",
    "# print(identity)\n",
    "\n",
    "# Repeat array\n",
    "array = numpy.array([[1,2,3]])\n",
    "# repeat = numpy.repeat(array,3, axis = 1)\n",
    "repeat = numpy.repeat(array,3, axis = 0)\n",
    "# print(repeat)"
   ]
  },
  {
   "cell_type": "markdown",
   "metadata": {},
   "source": [
    "### Practice"
   ]
  },
  {
   "cell_type": "code",
   "execution_count": 5,
   "metadata": {},
   "outputs": [],
   "source": [
    "outer = numpy.ones((5,5), dtype = int)\n",
    "# print(outer)\n",
    "\n",
    "inner = numpy.zeros((3,3), dtype = int)\n",
    "center = 9\n",
    "inner[1,1] = center\n",
    "# print(inner)\n",
    "\n",
    "output = outer.copy()\n",
    "output[1:-1,1:-1] = inner\n",
    "# print(output)"
   ]
  },
  {
   "cell_type": "markdown",
   "metadata": {},
   "source": [
    "### Mathematics"
   ]
  },
  {
   "cell_type": "code",
   "execution_count": 6,
   "metadata": {},
   "outputs": [],
   "source": [
    "a = numpy.array([1,2,3,4])\n",
    "b = numpy.array([2,2,2,2])\n",
    "# print(a)\n",
    "\n",
    "# Additional\n",
    "add = a + b\n",
    "# print(add)\n",
    "\n",
    "# Substraction\n",
    "sub = a - b\n",
    "# print(sub)\n",
    "\n",
    "# Multiplication\n",
    "mul = a * 2\n",
    "# print(mul)\n",
    "\n",
    "# Division\n",
    "div = a / 2\n",
    "# print(div)\n",
    "\n",
    "# Power\n",
    "pow = a ** 2\n",
    "# print(pow)\n",
    "\n",
    "# Sin, Cos, Tan\n",
    "sin = numpy.sin(a)\n",
    "cos = numpy.cos(a)\n",
    "tan = numpy.tan(a)\n",
    "# print(sin)\n",
    "\n",
    "# Refrence docs (https://numpy.org/doc/stable/reference/routines.math.html)"
   ]
  },
  {
   "cell_type": "markdown",
   "metadata": {},
   "source": [
    "### Linear Algebra"
   ]
  },
  {
   "cell_type": "code",
   "execution_count": 7,
   "metadata": {},
   "outputs": [],
   "source": [
    "a = numpy.ones((2,3), dtype = int)\n",
    "# print(a)\n",
    "b = numpy.full((3,2), 2)\n",
    "# print(b)\n",
    "\n",
    "mul = numpy.matmul(a,b)\n",
    "# print(mul)\n",
    "\n",
    "c = numpy.identity(3)\n",
    "det = numpy.linalg.det(c)\n",
    "# print(det)\n",
    "\n",
    "# Reference docs (https://numpy.org/doc/stable/reference/routines.linalg.html)"
   ]
  },
  {
   "cell_type": "markdown",
   "metadata": {},
   "source": [
    "### Statistics"
   ]
  },
  {
   "cell_type": "code",
   "execution_count": 8,
   "metadata": {},
   "outputs": [],
   "source": [
    "stats = numpy.array([[1,2,3],[4,5,6]])\n",
    "# print(stats)\n",
    "\n",
    "# Min, Max, Sum\n",
    "min = numpy.min(stats)\n",
    "# print(min)\n",
    "max = numpy.max(stats, axis = 1)\n",
    "# print(max)\n",
    "sum = numpy.sum(stats, axis = 0)\n",
    "# print(sum)"
   ]
  },
  {
   "cell_type": "markdown",
   "metadata": {},
   "source": [
    "### Reorganizing Arrays"
   ]
  },
  {
   "cell_type": "code",
   "execution_count": 9,
   "metadata": {},
   "outputs": [],
   "source": [
    "before = numpy.array([[1,2,3,4],[5,6,7,8]])\n",
    "# print(before)\n",
    "after = before.reshape(2,2,2)\n",
    "# print(after)\n",
    "\n",
    "# Verically stacking vectors\n",
    "v1 = numpy.array([1,2,3,4])\n",
    "v2 = numpy.array([5,6,7,8])\n",
    "\n",
    "v_stack = numpy.vstack([v1,v2,v1,v2])\n",
    "# print(v_stack)\n",
    "\n",
    "# Horizontal stacking vectors\n",
    "h1 = numpy.array([1,2,3])\n",
    "h2 = numpy.array([4,5,6])\n",
    "\n",
    "h_stack = numpy.hstack([h1,h2])\n",
    "# print(h_stack)"
   ]
  },
  {
   "cell_type": "markdown",
   "metadata": {},
   "source": [
    "### Miscellaneous"
   ]
  },
  {
   "cell_type": "code",
   "execution_count": 11,
   "metadata": {},
   "outputs": [],
   "source": [
    "filedata = numpy.genfromtxt(\"./other_data/numpy_data.txt\", delimiter = \",\", dtype = int)\n",
    "# print(filedata)\n",
    "\n",
    "# Advance indexing\n",
    "# print(filedata[filedata>50])\n",
    "# print(filedata[(filedata > 50) & (filedata < 100)])"
   ]
  }
 ],
 "metadata": {
  "kernelspec": {
   "display_name": "Python 3",
   "language": "python",
   "name": "python3"
  },
  "language_info": {
   "codemirror_mode": {
    "name": "ipython",
    "version": 3
   },
   "file_extension": ".py",
   "mimetype": "text/x-python",
   "name": "python",
   "nbconvert_exporter": "python",
   "pygments_lexer": "ipython3",
   "version": "3.11.2"
  },
  "orig_nbformat": 4
 },
 "nbformat": 4,
 "nbformat_minor": 2
}
