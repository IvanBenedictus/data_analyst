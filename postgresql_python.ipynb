{
 "cells": [
  {
   "cell_type": "code",
   "execution_count": 6,
   "metadata": {},
   "outputs": [],
   "source": [
    "import psycopg2.extras\n",
    "import psycopg2\n",
    "import pprint"
   ]
  },
  {
   "cell_type": "markdown",
   "metadata": {},
   "source": [
    "### Connect to Database"
   ]
  },
  {
   "cell_type": "code",
   "execution_count": 7,
   "metadata": {},
   "outputs": [],
   "source": [
    "hostname = \"localhost\"\n",
    "database = \"CustomerSSD\"\n",
    "username = \"postgres\"\n",
    "password = \"ivanbenedictus\"\n",
    "port_id = 5432\n",
    "connect = None\n",
    "cursor = None\n",
    "\n",
    "connect = psycopg2.connect(\n",
    "    host = hostname,\n",
    "    dbname = database,\n",
    "    user = username,\n",
    "    password = password,\n",
    "    port = port_id\n",
    ")\n",
    "\n",
    "cursor = connect.cursor(cursor_factory=psycopg2.extras.DictCursor)"
   ]
  },
  {
   "cell_type": "markdown",
   "metadata": {},
   "source": [
    "### Rollback"
   ]
  },
  {
   "cell_type": "code",
   "execution_count": 17,
   "metadata": {},
   "outputs": [],
   "source": [
    "connect.rollback()"
   ]
  },
  {
   "cell_type": "markdown",
   "metadata": {},
   "source": [
    "### Select Table"
   ]
  },
  {
   "cell_type": "code",
   "execution_count": 20,
   "metadata": {},
   "outputs": [
    {
     "name": "stdout",
     "output_type": "stream",
     "text": [
      "['Jakarta Pusat', 'PT Andal Wahana Sinergi', 'Livano Yudistira', 'Engineering Head', '+62 811-1815-936', 'Software']\n",
      "['Tangerang', 'PT Anugerah Aneka Industri', 'Amukti Sadat Jati', 'Engineering Staff', '+62 838-9797-7700', 'Automotive']\n",
      "['Jakarta Timur', 'PT Apex Dynamic Indonesia', 'Andrew Putra', 'Engineering Staff', '+62 811-9655-118', 'Principal']\n",
      "['Jakarta Timur', 'PT Apex Dynamic Indonesia', 'Budianto Lu', 'Sales Head', '+62 811-965-532', 'Principal']\n",
      "['Jakarta Utara', 'PT Astra Daihatsu Motor', 'Putra Berkah Ciptadi', 'Engineering Staff', '+62 857-2778-1212', 'Automotive']\n",
      "['Bogor', 'PT Astra Komponen Indonesia', 'Oksa Angger Dumas', 'Engineering Head', '+62 819-9983-5420', 'Automotive']\n",
      "['Bogor', 'PT Astra Winteq', 'Anas Triwibowo', 'Engineering Staff', '+62 856-8888-867', 'System Integrator']\n",
      "['Bogor', 'PT Astra Winteq', 'Anas Fauzi', 'Engineering Staff', '+62 856-4580-6213', 'System Integrator']\n",
      "['Bogor', 'PT Astra Winteq', 'Leonardo Parikesit', 'Sales Staff', '+62 813-1544-7709', 'System Integrator']\n",
      "['Bogor', 'PT Astra Winteq', 'Rudy Hardiansyah', 'Engineering Staff', '+62 852-3308-0035', 'System Integrator']\n",
      "['Bogor', 'PT Astra Winteq', 'Yusuf Sukma Indriana', 'Engineering Staff', '+62 813-2042-3496', 'System Integrator']\n",
      "['Bogor', 'PT Astra Visteon Indonesia', 'Arif Nopiyanto', 'Engineering Staff', '+62 813-8099-6094', 'Automotive']\n",
      "['Bogor', 'PT Astra Visteon Indonesia', 'Erik Hery Nugraha', 'Purchasing Head', '+62 811-8499-877', 'Automotive']\n",
      "['Bogor', 'PT Astra Visteon Indonesia', 'Nanang Kriscandono', 'Engineering Head', '+62 821-2465-8688', 'Automotive']\n",
      "['Bogor', 'PT Astra Visteon Indonesia', 'Prasetio Adi Sasano', 'Engineering Staff', '+62 815-3600-6781', 'Automotive']\n",
      "['Bogor', 'PT Astra Visteon Indonesia', 'Risyad Syaifatul Haq', 'Purchasing Staff', '+62 898-8573-497', 'Automotive']\n",
      "['Bekasi', 'PT Autoliv Indonesia', 'Malvin Muhammad Zain', 'Engineering Staff', '+62 811-9377-714', 'Automotive']\n",
      "['Jakarta Timur', 'PT Autonics Indonesia', 'Mohammad Beni Faisal', 'Engineering Head', '+62 857-1474-5419', 'Principal']\n",
      "['Jakarta Barat', 'PT Chandra Asri Petrochemical', 'Andrianes Prihatna Setyabudi', 'Purchasing Staff', '+62 815-4889-9392', 'Petrochemical']\n",
      "['Cikarang', 'PT Chiyoda Kogyo Indonesia', 'Muhammad Fathoni', 'Sales Staff', '+62 815-8538-1563', 'System Integrator']\n",
      "['Cikarang', 'PT Chiyoda Kogyo Indonesia', 'Fitra Mulyadi', 'Engineering Head', '+62 815-1622-033', 'System Integrator']\n",
      "['Bekasi', 'PT Chuhatsu Indonesia', 'Fathan Muhammad', 'Finance Staff', '+62 857-1688-7677', 'Automotive']\n",
      "['Cikarang', 'PT CKD Trading Indonesia', 'Muhammad Aulia Rahman', 'Sales Staff', '+62 823-8699-9363', 'Principal']\n",
      "['Jakarta Selatan', 'PT CKD Trading Indonesia', 'Bagas Tenang Priambodo', 'Sales Staff', '+62 811-1287-722', 'Principal']\n",
      "['Jakarta Pusat', 'PT Elmecon Multikencana', 'Budi Nugroho', 'Engineering Staff', '+62 858-8556-7869', 'Network System']\n",
      "['Jakarta Pusat', 'PT Elmecon Multikencana', 'Fidel Rosisca', 'Engineering Staff', '+62 898-8714-793', 'Network System']\n",
      "['Jakarta Selatan', 'PT Epson Indonesia', 'Erwin Pribadi', 'Sales Staff', '+62 813-8558-4478', 'Principal']\n",
      "['Jakarta Selatan', 'PT Epson Indonesia', 'Ardhani Rahmadianto', 'Engineering Staff', '+62 821-3736-1003', 'Principal']\n",
      "['Jakarta Selatan', 'PT Epson Indonesia', 'Mufti Al-Azis', 'Engineering Staff', '+62 857-3205-9851', 'Principal']\n",
      "['Cikarang', 'PT Fanuc Indonesia', 'Dia Ginanjar', 'Sales Staff', '+62 812-9984-0202', 'Principal']\n",
      "['Cikarang', 'PT Fanuc Indonesia', 'Ghaisani Yasmin', 'Sales Staff', '+62 877-7585-9957', 'Principal']\n",
      "['Cikarang', 'PT Flexlink System', 'Arditya Fajar', 'Engineering Staff', '+62 811-8819-183', 'Conveyor Maker']\n",
      "['Cikarang', 'PT Frisindo Mitra Usaha', 'Amelia Purnamawanti', 'Engiprering Staff', '+62 811-1072-206', 'Principal']\n",
      "['Cikarang', 'PT Frisindo Mitra Usaha', 'Nicolaus Baruno', 'Sales Head', '+62 811-9301-020', 'Principal']\n",
      "['Cikarang', 'PT Frisindo Mitra Usaha', 'Abdi Surya Pangestu', 'Engineering Staff', '+62 813-1676-7769', 'Principal']\n",
      "['Jakarta Pusat', 'PT Global Sahabat Otomasi', 'Chandra Setiawan', 'Engineering Staff', '+62 812-8808-4990', 'Distributor']\n",
      "['Karawang', 'PT Honda Precision Parts Manufacturing', 'Angga Martha Dewangga', 'Purchasing', '+62 811-1027-599', 'Automotive']\n",
      "['Karawang', 'PT Honda Precision Parts Manufacturing', 'Dicky Ismet Sunarya', 'Engineering Staff', '+62 856-2450-4142', 'Automotive']\n",
      "['Karawang', 'PT Honda Precision Parts Manufacturing', 'Heru Rosaria Umbara', 'Engineering Head', '+62 812-9662-351', 'Automotive']\n",
      "['Karawang', 'PT Honda Precision Parts Manufacturing', 'Bambang Sunarto', 'Purchasing Staff', '+62 811-1027-599', 'Automotive']\n",
      "['Karawang', 'PT Honda Precision Parts Manufacturing', 'Muhammad Widiya Ramdan', 'Purchasing Staff', '+62 857-2047-5185', 'Automotive']\n",
      "['Cikarang', 'PT Idzar Dwi Karya', 'Rois Achmadi', 'Sales Head', '+62 822-2168-6232', 'System Integrator']\n",
      "['Cikarang', 'PT Idzar Dwi Karya', 'Indah Noormadinah', 'Sales Staff', '+62 812-1979-0399', 'System Integrator']\n",
      "['Cikarang', 'PT Idzar Dwi Karya', 'Miftahul Habib Ramli', 'Sales Staff', '+62 821-6908-8010', 'System Integrator']\n",
      "['Tangerang Selatan', 'PT Igus Indonesia', 'Purwoko Hadiwijaya', 'Engineering Head', '+62 817-9856-709', 'Principal']\n",
      "['Tangerang Selatan', 'PT Igus Indonesia', 'Rizal Bagas Prakosa', 'Engineering Staff', '+62 812-2739-9083', 'Principal']\n",
      "['Surabaya', 'PT Industrial Robotic Automation', 'Hananto Rahardjo', 'Sales Staff', '+62 811-8663-747', 'System Integrator']\n",
      "['Jakarta Selatan', 'PT Jetec Indonesia', 'Bartolomeus Edwin Sugara', 'Engineering Staff', '+62 822-2111-1855', 'System Integrator']\n",
      "['Cikarang', 'PT Kaizen Automation Indonesia', 'Jerson Albert', 'General Manager', '+62 813-1605-9989', 'System Integrator']\n",
      "['Karawang', 'PT Kalbe Morinaga', 'Agus Riyanto', 'Purchasing Staff', '+62 815-1902-2708', 'Pharmaceutical']\n",
      "['Jakarta Selatan', 'PT Keyence Indonesia', 'Randy Arion Duke', 'Engineering Head', '+62 811-8751-153', 'Principal']\n",
      "['Malaysia', 'PT Kuka Indonesia', 'Syafrijal Agus Mubarok', 'Sales Head', '+62 822-1148-1237', 'Principal']\n",
      "['Malaysia', 'PT Kuka Indonesia', 'Arie Pratama', 'Sales Staff', '+62 817-0293-000', 'Principal']\n",
      "['China', 'PT Mech-Mind Robotics', 'Elena Wang', 'Sales Staff', '+86 158-6826-6956', 'Principal']\n",
      "['Tangerang Selatan', 'PT Metrix Inspira', 'Trijaya Hadiansah', 'General Manager', '+62 811-879-063', 'System Integrator']\n",
      "['Tangerang Selatan', 'PT Metrix Inspira', 'Teguh Wantoro', 'Engineering Staff', '+62 812-8289-4901', 'System Integrator']\n",
      "['Tangerang Selatan', 'PT Metrix Inspira', 'Muhammad Alfikri', 'Purchasing Staff', '+62 858-9313-1253', 'System Integrator']\n",
      "['Bekasi', 'PT Niramas Utama', 'Steven Kurniawan', 'Purchasing Staff', '+62 857-7170-3347', 'Food & Beverage']\n",
      "['Bogor', 'PT Nittoh Precision Indonesia', 'Reza Havidz', 'Purchasing Head', '+62 813-1482-2546', 'Lens Manufacturer']\n",
      "['Bogor', 'PT Nittoh Precision Indonesia', 'Robertus Trianto', 'Engineering Head', '+62 821-1430-0048', 'Lens Manufacturer']\n",
      "['Bogor', 'PT Nittoh Precision Indonesia', 'Mohamad Triyadi', 'Engineering Staff', '+62 878-7313-4393', 'Lens Manufacturer']\n",
      "['Cikande', 'PT Pigeon Indonesia', 'Galih Wicaksono', 'Engineering Staff', '+62 812-2632-7216', 'Consumer Goods']\n",
      "['Cikande', 'PT Pigeon Indonesia', 'Gilang Ramadhan', 'Engineering Staff', '+62 813-1446-5233', 'Consumer Goods']\n",
      "['Cikande', 'PT Pigeon Indonesia', 'Lilik Yuliardi', 'Engineering Head', '+62 859-7781-9403', 'Consumer Goods']\n",
      "['Cikande', 'PT Pigeon Indonesia', 'Rimbun Mario Martin', 'Engineering Head', '+62 812-1022-1441', 'Consumer Goods']\n",
      "['Cikarang', 'PT Precision Parts Indonesia', 'Joko Widodo', 'Engineering Staff', '+62 857-7734-5040', 'Automotive']\n",
      "['Bekasi', 'PT Seiwa Indonesia', 'Dahlia Gadies', 'Purchasing Staff', '+62 821-3753-2325', 'Automotive']\n",
      "['Karawang', 'PT Sharp Electronic Indonesia', 'Muhammad Yayat Ruchiyat', 'Engineering Staff', '+62 821-1456-2071', 'Electronic']\n",
      "['Karawang', 'PT Sharp Electronic Indonesia', 'Rian Romansyah', 'Engineering Staff', '+62 856-7763-761', 'Electronic']\n",
      "['Bekasi', 'PT Sugity Creatives', 'Muhamad Faisal', 'Engineering Head', '+62 852-2018-0440', 'Automotive']\n",
      "['Bekasi', 'PT Sugity Creatives', 'Fajar Choirul Anam', 'Engineering Head', '+62 812-9443-3134', 'Automotive']\n",
      "['Japan', 'PT Universal Robot', 'Takaki Sakaguchi', 'Sales Head', '+81 70-4027-7328', 'Principal']\n",
      "['Jakarta Timur', 'PT Yaskawa Electric Indonesia', 'Dwi Anugrah Putra', 'Sales Staff', '+62 811-2348-332', 'Principal']\n",
      "['Jakarta Timur', 'PT Yaskawa Electric Indonesia', 'Kusmawan Kusmawan', 'Engineering Head', '+62 811-9782-661', 'Principal']\n",
      "['Jakarta Timur', 'PT Yaskawa Electric Indonesia', 'Nuperianto Latin', 'Sales Head', '+62 815-7494-8777', 'Principal']\n",
      "['Jakarta Pusat', 'PT Yuasa Shoji Indonesia', 'Makoto Kagaya', 'Engineering Head', '+62 811-9620-7947', 'Automotive']\n",
      "['Jakarta Selatan', 'PT Skylab Kreasi Indonesia', 'Andri Yudatama', 'General Manager', '+62 817-141-771', 'Photobooth']\n",
      "['Jakarta Selatan', 'PT Skylab Kreasi Indonesia', 'Liani Sari', 'General Manager', '+62 818-315-450', 'Photobooth']\n",
      "['Purwakarta', 'PT Indopoly Swakarsa Industry Tbk', 'Indah Dwi Sofian', 'Purchasing Staff', '+62 264-351-455', 'Plastic Packaging']\n",
      "['Singapore', 'PT Ropex Industrie Elektronik', 'Chua Poh Chiang', 'Engineering Staff', '+65 9847-8288', 'Principal']\n",
      "['Bekasi', 'PT Sugity Creatives', 'Fiorenti Ilma', 'Engineering Staff', '+62 858-1383-0677', 'Automotive']\n",
      "['Karawang', 'PT CKD Trading Indonesia', 'Dadan Hamdani', 'Engineering Staff', '+62 857-7749-8800', 'Principal']\n",
      "['Jakarta Utara', 'PT Surya Sarana Dinamika', 'Fajar Suryawan', 'Director', '+62 816-1921-989', 'Robotic Distributor']\n",
      "['Jakarta Utara', 'PT Surya Sarana Dinamika', 'Sandi Lukman', 'Director', '+62 812-1266-1981', 'Robotic Distributor']\n",
      "['Jakarta Utara', 'PT Surya Sarana Dinamika', 'Hempy Wibowo', 'Sales Head', '+62 859-5639-2818', 'Robotic Distributor']\n",
      "['Singapore', 'PT Epson Singapore', 'Seiichi Ito', 'Director', '+65 9863-9482', 'Principal']\n",
      "['Singapore', 'PT Epson Singapore', 'Vivekanand Patil', 'Sales Head', '+65 9012-4254', 'Principal']\n",
      "['China', 'PT Seer Intellegent Techonology', 'Dante Sun', 'Engineering Staff', '+86 187-6657-2810', 'Principal']\n",
      "['Jakarta', 'PT ABB Sakti Industri', 'Ignasius Wisnu', 'Engineering Head', '+62 817-6317-121', 'Principal']\n",
      "['Jakarta', 'PT ABB Sakti Industri', 'Mugi Harfianza', 'Engineering Head', '+62 818-714-301', 'Principal']\n"
     ]
    }
   ],
   "source": [
    "cursor.execute(\"SELECT * FROM customer\")\n",
    "for record in cursor.fetchall():\n",
    "    print(record)\n",
    "    # print(record[\"company\"], record[\"contact\"], record[\"position\"])"
   ]
  },
  {
   "cell_type": "markdown",
   "metadata": {},
   "source": [
    "### Create Table Customer"
   ]
  },
  {
   "cell_type": "code",
   "execution_count": 18,
   "metadata": {},
   "outputs": [],
   "source": [
    "cursor.execute(\"DROP TABLE IF EXISTS customer\")\n",
    "\n",
    "create_table = \"\"\"\n",
    "CREATE TABLE customer(\n",
    "    area VARCHAR(20) NOT NULL,\n",
    "    company VARCHAR(50) NOT NULL,\n",
    "    contact VARCHAR(50) NOT NULL,\n",
    "    position VARCHAR(20) NOT NULL,\n",
    "    mobile VARCHAR(17) NOT NULL,\n",
    "    business VARCHAR(20) NOT NULL,\n",
    "    CONSTRAINT pk_customer PRIMARY KEY (contact)\n",
    ")\n",
    "\"\"\"\n",
    "cursor.execute(create_table)\n",
    "connect.commit()"
   ]
  },
  {
   "cell_type": "markdown",
   "metadata": {},
   "source": [
    "### Insert Table"
   ]
  },
  {
   "cell_type": "code",
   "execution_count": 15,
   "metadata": {},
   "outputs": [],
   "source": [
    "insert_table = \"INSERT INTO customer(area,company,contact,position,mobile,business) VALUES (%s, %s, %s, %s, %s, %s)\"\n",
    "table_value = [\n",
    "    (\"Jakarta Pusat\",\"PT Andal Wahana Sinergi\",\"Livano Yudistira\",\"Engineering Head\",\"+62 811-1815-936\",\"Software\"),\n",
    "    (\"Tangerang\",\"PT Anugerah Aneka Industri\",\"Amukti Sadat Jati\",\"Engineering Staff\",\"+62 838-9797-7700\",\"Automotive\"),\n",
    "    (\"Jakarta Timur\",\"PT Apex Dynamic Indonesia\",\"Andrew Putra\",\"Engineering Staff\",\"+62 811-9655-118\",\"Principal\")\n",
    "    ]\n",
    "for value in table_value:\n",
    "    cursor.execute(insert_table, value)\n",
    "connect.commit()"
   ]
  },
  {
   "cell_type": "markdown",
   "metadata": {},
   "source": [
    "### Copy Table"
   ]
  },
  {
   "cell_type": "code",
   "execution_count": 19,
   "metadata": {},
   "outputs": [],
   "source": [
    "copy_table = \"COPY customer FROM 'D:\\Softskills\\Python\\Data Analyst\\ssd_data\\ssd_customer.csv' WITH CSV HEADER\"\n",
    "cursor.execute(copy_table)\n",
    "connect.commit()"
   ]
  },
  {
   "cell_type": "markdown",
   "metadata": {},
   "source": [
    "### Disconnect to Database"
   ]
  },
  {
   "cell_type": "code",
   "execution_count": 21,
   "metadata": {},
   "outputs": [],
   "source": [
    "# Close the cursor and connection if they are running\n",
    "if cursor is not None:\n",
    "    cursor.close()\n",
    "\n",
    "if connect is not None:\n",
    "    connect.close()"
   ]
  }
 ],
 "metadata": {
  "kernelspec": {
   "display_name": "Python 3",
   "language": "python",
   "name": "python3"
  },
  "language_info": {
   "codemirror_mode": {
    "name": "ipython",
    "version": 3
   },
   "file_extension": ".py",
   "mimetype": "text/x-python",
   "name": "python",
   "nbconvert_exporter": "python",
   "pygments_lexer": "ipython3",
   "version": "3.11.2"
  }
 },
 "nbformat": 4,
 "nbformat_minor": 2
}
